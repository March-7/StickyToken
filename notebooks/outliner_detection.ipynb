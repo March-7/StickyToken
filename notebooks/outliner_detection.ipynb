{
 "cells": [
  {
   "cell_type": "code",
   "execution_count": 1,
   "metadata": {},
   "outputs": [],
   "source": [
    "class EXP:\n",
    "    MODEL = 'sentence-transformers/sentence-t5-base'\n",
    "    # MODEL = 'Alibaba-NLP/gte-base-en-v1.5'\n",
    "    # MODEL = 'Alibaba-NLP/gte-large-en-v1.5'\n",
    "    # MODEL = 'intfloat/e5-mistral-7b-instruct'\n",
    "    # MODEL = 'BAAI/bge-base-en-v1.5'\n",
    "    # MODEL = \"Alibaba-NLP/gte-Qwen2-1.5B-instruct\"\n",
    "    # MODEL = \"Alibaba-NLP/gte-Qwen2-7B-instruct\"\n",
    "    # MODEL = \"princeton-nlp/sup-simcse-bert-large-uncased\"\n",
    "    # MODEL = \"Salesforce/SFR-Embedding-2_R\"\n",
    "    # MODEL = \"nomic-ai/nomic-embed-text-v1\"\n",
    "    # MODEL = \"hkunlp/instructor-base\"\n",
    "    # MODEL = \"hkunlp/instructor-xl\"\n",
    "    # MODEL = \"WhereIsAI/UAE-Large-V1\"\n",
    "    # MODEL = \"nomic-ai/nomic-bert-2048\"\n",
    "    # MODEL = \"thenlper/gte-small\"\n",
    "    # MODEL = \"Salesforce/SFR-Embedding-2_R\"\n",
    "    # MODEL = \"GritLM/GritLM-7B\"\n",
    "    # MODEL = \"sentence-transformers/gtr-t5-base\"\n",
    "    # MODEL = \"nomic-ai/nomic-embed-text-v1.5\"\n",
    "    # MODEL = 'sentence-transformers/all-mpnet-base-v2'\n",
    "    # MODEL  = \"sentence-transformers/all-MiniLM-L6-v2\"\n",
    "    DATASET = [\n",
    "        \"mteb/sts13-sts\",\n",
    "        \"mteb/sts22-crosslingual-sts\",\n",
    "        \"mteb/sts12-sts\",\n",
    "        \"mteb/stsbenchmark-sts\",\n",
    "        \"mteb/sickr-sts\",\n",
    "        \"mteb/sts14-sts\",\n",
    "        \"mteb/biosses-sts\",\n",
    "        \"mteb/sts16-sts\",\n",
    "        \"mteb/sts15-sts\",\n",
    "        \"mteb/stsb_multi_mt\",\n",
    "        \"mteb/sts17-crosslingual-sts\"\n",
    "    ]\n",
    "    SENT_PAIR_NUM = 5\n",
    "    INSERT_NUM = 8\n",
    "    VERIFICATION_SENT_PAIR_NUM = 250"
   ]
  },
  {
   "cell_type": "code",
   "execution_count": 2,
   "metadata": {},
   "outputs": [],
   "source": [
    "import os\n",
    "os.environ['CUDA_VISIBLE_DEVICES'] = '0'\n",
    "import sys\n",
    "sys.path.append('/root/StickyToken')\n",
    "# from stickytoken.utils import *"
   ]
  },
  {
   "cell_type": "code",
   "execution_count": 3,
   "metadata": {},
   "outputs": [],
   "source": [
    "# from sentence_transformers import SentenceTransformer\n",
    "# model = SentenceTransformer(EXP.MODEL                \n",
    "#                             ,model_kwargs={\n",
    "#                     \"torch_dtype\": \"bfloat16\",\n",
    "#                     \"attn_implementation\": \"flash_attention_2\"})\n",
    "# model = SentenceTransformer(EXP.MODEL)\n",
    "# model._first_module().auto_model.embed_tokens.weight.data.detach().cpu().numpy()\n",
    "# model._first_module().auto_model.embeddings.word_embeddings.weight.data.detach().cpu().numpy()"
   ]
  },
  {
   "cell_type": "code",
   "execution_count": null,
   "metadata": {},
   "outputs": [],
   "source": [
    "# from sentence_transformers import SentenceTransformer\n",
    "\n",
    "# model = SentenceTransformer(\"nomic-ai/nomic-embed-text-v1\")"
   ]
  },
  {
   "cell_type": "code",
   "execution_count": null,
   "metadata": {},
   "outputs": [],
   "source": [
    "from stickytoken.embedding_model import ModelAnalyzer\n",
    "moda = ModelAnalyzer(EXP.MODEL)"
   ]
  },
  {
   "cell_type": "code",
   "execution_count": null,
   "metadata": {},
   "outputs": [],
   "source": [
    "moda.vocab_embeddings"
   ]
  },
  {
   "cell_type": "code",
   "execution_count": null,
   "metadata": {},
   "outputs": [],
   "source": [
    "from stickytoken.tokenization import TokenizerAnalyzer\n",
    "toka = TokenizerAnalyzer(EXP.MODEL)"
   ]
  },
  {
   "cell_type": "code",
   "execution_count": null,
   "metadata": {},
   "outputs": [],
   "source": [
    "token_infos = toka.categorize_tokens()"
   ]
  },
  {
   "cell_type": "code",
   "execution_count": null,
   "metadata": {},
   "outputs": [],
   "source": [
    "moda.check_on_unit_sphere()"
   ]
  },
  {
   "cell_type": "code",
   "execution_count": null,
   "metadata": {},
   "outputs": [],
   "source": [
    "moda.check_is_anisotropic()"
   ]
  },
  {
   "cell_type": "code",
   "execution_count": null,
   "metadata": {},
   "outputs": [],
   "source": [
    "from stickytoken.sentence_pair import SentencePair,Dataset\n",
    "sent_pairs = SentencePair(EXP.DATASET,moda.model,moda.model_name)"
   ]
  },
  {
   "cell_type": "code",
   "execution_count": null,
   "metadata": {},
   "outputs": [],
   "source": [
    "dataset = Dataset(sent_pairs.sampled_sentence_pairs_path, moda, EXP.SENT_PAIR_NUM)"
   ]
  },
  {
   "cell_type": "code",
   "execution_count": null,
   "metadata": {},
   "outputs": [],
   "source": [
    "verification_dataset = Dataset(sent_pairs.sampled_sentence_pairs_path, moda, EXP.VERIFICATION_SENT_PAIR_NUM)"
   ]
  },
  {
   "cell_type": "code",
   "execution_count": 11,
   "metadata": {},
   "outputs": [],
   "source": [
    "# moda.neighbor_distances_statistics(mode = 'mean')\n",
    "# moda.neighbor_distances_statistics()\n",
    "# moda.cosine_threshold,moda.euclidean_threshold,moda.manhattan_threshold"
   ]
  },
  {
   "cell_type": "code",
   "execution_count": 12,
   "metadata": {},
   "outputs": [],
   "source": [
    "moda.magic_token_test('</s>',None,dataset,EXP.INSERT_NUM,)\n",
    "# moda.magic_token_test('</s>',5058,dataset,EXP.INSERT_NUM,)\n",
    "# moda.magic_results"
   ]
  },
  {
   "cell_type": "code",
   "execution_count": null,
   "metadata": {},
   "outputs": [],
   "source": [
    "token_infos_with_metrics = moda.caculate_vocab_token_magic_score(token_infos,\n",
    "                                                                 dataset,\n",
    "                                                                 EXP.INSERT_NUM,\n",
    "                                                                 do_sample=True,\n",
    "                                                                 sample_num=500,)\n",
    "# token_infos_with_metric"
   ]
  },
  {
   "cell_type": "code",
   "execution_count": null,
   "metadata": {},
   "outputs": [],
   "source": [
    "token_infos_with_metrics = moda.caculate_vocab_token_magic_score_multi_token(token_infos,\n",
    "                                                                 dataset,\n",
    "                                                                 EXP.INSERT_NUM,\n",
    "                                                                 do_sample=True,\n",
    "                                                                 sample_num=500,)\n",
    "# token_infos_with_metric"
   ]
  },
  {
   "cell_type": "code",
   "execution_count": null,
   "metadata": {},
   "outputs": [],
   "source": [
    "# moda.magic_token_verify('</s>',None,verification_dataset,EXP.INSERT_NUM)\n",
    "# moda.magic_token_verify('</s>',5633,verification_dataset,EXP.INSERT_NUM)\n",
    "# moda.magic_token_verify('</s>',19784,verification_dataset,8)\n",
    "# moda.verify_results"
   ]
  },
  {
   "cell_type": "code",
   "execution_count": null,
   "metadata": {},
   "outputs": [],
   "source": [
    "import numpy as np\n",
    "from stickytoken.utils import load_vocab_token_magic_scores\n",
    "token_infos_with_metrics = load_vocab_token_magic_scores(os.path.basename(EXP.MODEL))\n",
    "import pandas as pd\n",
    "import pygwalker as pyg\n",
    "import matplotlib.pyplot as plt\n",
    "df_token_infos_with_metrics = pd.DataFrame(token_infos_with_metrics).T\n",
    "\n",
    "# 过滤掉 'main_metric' 列中的 NaN 值\n",
    "filtered_main_metric = df_token_infos_with_metrics['main_metric'].dropna()\n",
    "\n",
    "# 绘制箱线图并获取异常点\n",
    "plt.figure(figsize=(10, 6))\n",
    "boxplot_result = plt.boxplot(filtered_main_metric)\n",
    "plt.title('Boxplot of Main Metric')\n",
    "plt.ylabel('Main Metric')\n",
    "plt.show()\n",
    "\n",
    "# 计算四分位数和四分位间距\n",
    "Q1 = filtered_main_metric.quantile(0.25)\n",
    "median = filtered_main_metric.median()\n",
    "Q3 = filtered_main_metric.quantile(0.75)\n",
    "IQR = Q3 - Q1\n",
    "\n",
    "# 计算上下边界\n",
    "lower_bound = Q1 - 1.5 * IQR\n",
    "upper_bound = Q3 + 1.5 * IQR\n",
    "\n",
    "# 找出异常值\n",
    "outliers = filtered_main_metric[(filtered_main_metric < lower_bound) | (filtered_main_metric > upper_bound)]\n",
    "print(\"下四分位数 Q1:\", Q1)\n",
    "print(\"中位数:\", median)\n",
    "print(\"上四分位数 Q3:\", Q3)\n",
    "print(\"四分位间距 IQR:\", IQR)\n",
    "print(\"下边界:\", lower_bound)\n",
    "print(\"上边界:\", upper_bound)\n",
    "print(\"异常值:\", outliers.values)\n",
    "print(\"异常值数量:\", len(outliers))\n",
    "\n",
    "# 找出filter后的main_metric中的前2%的值\n",
    "threshold = np.percentile(filtered_main_metric, 98)\n",
    "top_2_percent_values = filtered_main_metric[filtered_main_metric >= threshold]\n",
    "print(\"前2%的阈值:\", threshold)\n",
    "print(\"前2%的值:\", top_2_percent_values.values)\n",
    "print(\"前2%的值数量:\", len(top_2_percent_values))\n",
    "\n",
    "\n",
    "walker = pyg.walk(df_token_infos_with_metrics)\n"
   ]
  },
  {
   "cell_type": "code",
   "execution_count": null,
   "metadata": {},
   "outputs": [],
   "source": [
    "df_token_infos_with_metrics"
   ]
  },
  {
   "cell_type": "code",
   "execution_count": null,
   "metadata": {},
   "outputs": [],
   "source": [
    "boxplot_result['fliers'][0].get_data()[1]"
   ]
  },
  {
   "cell_type": "code",
   "execution_count": null,
   "metadata": {},
   "outputs": [],
   "source": [
    "# 获取异常点\n",
    "outliers = boxplot_result['fliers'][0].get_ydata()\n",
    "print(\"异常点:\", outliers)"
   ]
  },
  {
   "cell_type": "code",
   "execution_count": null,
   "metadata": {},
   "outputs": [],
   "source": [
    "df_token_infos_with_metrics"
   ]
  },
  {
   "cell_type": "code",
   "execution_count": 5,
   "metadata": {},
   "outputs": [],
   "source": [
    "from stickytoken.utils import load_vocab_verifications\n",
    "token_infos_with_metrics_and_part_verifications = load_vocab_verifications(os.path.basename(EXP.MODEL))\n",
    "import pandas as pd\n",
    "import pygwalker as pyg\n",
    "df_token_infos_with_metrics_and_part_verifications = pd.DataFrame(token_infos_with_metrics_and_part_verifications).T\n",
    "# walker = pyg.walk(df_token_infos_with_metrics_and_part_verifications)"
   ]
  },
  {
   "cell_type": "code",
   "execution_count": 6,
   "metadata": {},
   "outputs": [],
   "source": [
    "df_token_infos_with_metrics_and_part_verifications['first_verification_element'] = df_token_infos_with_metrics_and_part_verifications['verification'].apply(lambda x: x[0] if isinstance(x, (list, tuple)) else None)\n"
   ]
  },
  {
   "cell_type": "code",
   "execution_count": null,
   "metadata": {},
   "outputs": [],
   "source": [
    "walker = pyg.walk(df_token_infos_with_metrics_and_part_verifications)"
   ]
  },
  {
   "cell_type": "code",
   "execution_count": null,
   "metadata": {},
   "outputs": [],
   "source": [
    "import numpy as np\n",
    "import matplotlib.pyplot as plt\n",
    "\n",
    "# 过滤掉 'main_metric' 列中的 NaN 值\n",
    "filtered_main_metric = df_token_infos_with_metrics_and_part_verifications['first_verification_element'].dropna()\n",
    "\n",
    "# 绘制箱线图并获取异常点\n",
    "plt.figure(figsize=(10, 6))\n",
    "boxplot_result = plt.boxplot(filtered_main_metric)\n",
    "plt.title('Boxplot of Main Metric')\n",
    "plt.ylabel('Main Metric')\n",
    "plt.show()\n",
    "\n",
    "# 计算四分位数和四分位间距\n",
    "Q1 = filtered_main_metric.quantile(0.25)\n",
    "median = filtered_main_metric.median()\n",
    "Q3 = filtered_main_metric.quantile(0.75)\n",
    "IQR = Q3 - Q1\n",
    "\n",
    "# 计算上下边界\n",
    "lower_bound = Q1 - 1.5 * IQR\n",
    "upper_bound = Q3 + 1.5 * IQR\n",
    "\n",
    "# 找出异常值\n",
    "outliers = filtered_main_metric[(filtered_main_metric < lower_bound) | (filtered_main_metric > upper_bound)]\n",
    "print(\"下四分位数 Q1:\", Q1)\n",
    "print(\"中位数:\", median)\n",
    "print(\"上四分位数 Q3:\", Q3)\n",
    "print(\"四分位间距 IQR:\", IQR)\n",
    "print(\"下边界:\", lower_bound)\n",
    "print(\"上边界:\", upper_bound)\n",
    "print(\"异常值:\", outliers.values)\n",
    "print(\"异常值数量:\", len(outliers))\n",
    "\n",
    "# 找出filter后的main_metric中的前2%的值\n",
    "threshold = np.percentile(filtered_main_metric, 98)\n",
    "top_2_percent_values = filtered_main_metric[filtered_main_metric >= threshold]\n",
    "print(\"前2%的阈值:\", threshold)\n",
    "print(\"前2%的值:\", top_2_percent_values.values)\n",
    "print(\"前2%的值数量:\", len(top_2_percent_values))\n",
    "\n",
    "\n",
    "# walker = pyg.walk(df_token_infos_with_metrics)\n"
   ]
  },
  {
   "cell_type": "code",
   "execution_count": null,
   "metadata": {},
   "outputs": [],
   "source": [
    "# from stickytoken.embedding_model import candidates_for_verification\n",
    "# candidates, threshold = candidates_for_verification(\n",
    "#                 token_infos_with_metrics_and_part_verifications\n",
    "#             )\n",
    "# remaining_candidates = [tc for tc in candidates if \"verification\" not in tc]"
   ]
  },
  {
   "cell_type": "code",
   "execution_count": null,
   "metadata": {},
   "outputs": [],
   "source": [
    "# moda.adaptive_threshold_verification(verification_dataset,EXP.INSERT_NUM)\n",
    "# moda.final_verification(token_infos_with_metrics,\n",
    "#                         verification_dataset,\n",
    "#                         EXP.INSERT_NUM)\n",
    "moda.final_verification(token_infos_with_metrics_and_part_verifications,\n",
    "                        verification_dataset,\n",
    "                        EXP.INSERT_NUM)"
   ]
  },
  {
   "cell_type": "code",
   "execution_count": 16,
   "metadata": {},
   "outputs": [],
   "source": [
    "# moda.cosine_threshold,moda.euclidean_threshold,moda.manhattan_threshold"
   ]
  },
  {
   "cell_type": "code",
   "execution_count": null,
   "metadata": {},
   "outputs": [],
   "source": [
    "moda.record_all(EXP)"
   ]
  }
 ],
 "metadata": {
  "kernelspec": {
   "display_name": "magikarp",
   "language": "python",
   "name": "python3"
  },
  "language_info": {
   "codemirror_mode": {
    "name": "ipython",
    "version": 3
   },
   "file_extension": ".py",
   "mimetype": "text/x-python",
   "name": "python",
   "nbconvert_exporter": "python",
   "pygments_lexer": "ipython3",
   "version": "3.11.10"
  }
 },
 "nbformat": 4,
 "nbformat_minor": 2
}
