{
 "cells": [
  {
   "cell_type": "code",
   "execution_count": 1,
   "metadata": {},
   "outputs": [],
   "source": [
    "normal_scores = [\n",
    "    20.04, 25.06, 37.17, 44.58, 45.41, 28.48,  # sentence-t5-base\n",
    "    18.05, 23.13, 50.64, 57.70, 47.45, 29.77,  # instructor-base\n",
    "    28.94, 26.51, 22.15, 71.36, 51.13, 37.15,  # e5-base\n",
    "    25.11, 25.19, 28.40, 33.66, 36.79, 13.45,  # simcse-bert-base\n",
    "    35.79, 30.96, 40.48, 74.51, 63.67, 37.70    # UAE-Large-V1\n",
    "]\n",
    "\n",
    "sticky_scores = [\n",
    "    15.02, 20.41, 35.38, 26.76, 42.14, 13.65,  # sentence-t5-base\n",
    "    26.05, 26.55, 50.55, 43.47, 47.03, 23.11,  # instructor-base\n",
    "    27.02, 24.92, 20.00, 70.95, 49.14, 37.01,  # e5-base\n",
    "    24.80, 25.17, 29.22, 29.89, 38.38, 8.84,   # simcse-bert-base\n",
    "    35.98, 30.94, 47.20, 72.63, 63.48, 37.79    # UAE-Large-V1\n",
    "]"
   ]
  },
  {
   "cell_type": "code",
   "execution_count": 2,
   "metadata": {},
   "outputs": [
    {
     "name": "stdout",
     "output_type": "stream",
     "text": [
      "Paired t-test Results:\n",
      "t = 2.227, p = 0.0170\n",
      "Mean difference (normal - sticky) = 2.232\n",
      "Cohen's d = 0.407\n"
     ]
    }
   ],
   "source": [
    "import numpy as np\n",
    "from scipy import stats\n",
    "\n",
    "# 计算均值差异\n",
    "diff = np.array(normal_scores) - np.array(sticky_scores)\n",
    "\n",
    "# 配对t检验（单尾：检验sticky是否更差，即normal_score > sticky_score）\n",
    "t_stat, p_value = stats.ttest_rel(normal_scores, sticky_scores, alternative='greater')\n",
    "\n",
    "# 计算Cohen's d效应量\n",
    "cohen_d = np.mean(diff) / np.std(diff, ddof=1)\n",
    "\n",
    "print(f\"Paired t-test Results:\")\n",
    "print(f\"t = {t_stat:.3f}, p = {p_value:.4f}\")\n",
    "print(f\"Mean difference (normal - sticky) = {np.mean(diff):.3f}\")\n",
    "print(f\"Cohen's d = {cohen_d:.3f}\")"
   ]
  }
 ],
 "metadata": {
  "kernelspec": {
   "display_name": "stickytoken",
   "language": "python",
   "name": "python3"
  },
  "language_info": {
   "codemirror_mode": {
    "name": "ipython",
    "version": 3
   },
   "file_extension": ".py",
   "mimetype": "text/x-python",
   "name": "python",
   "nbconvert_exporter": "python",
   "pygments_lexer": "ipython3",
   "version": "3.11.11"
  }
 },
 "nbformat": 4,
 "nbformat_minor": 2
}
