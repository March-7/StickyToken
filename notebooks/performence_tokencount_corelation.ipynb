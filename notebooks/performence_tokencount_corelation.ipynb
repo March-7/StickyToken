{
 "cells": [
  {
   "cell_type": "code",
   "execution_count": null,
   "metadata": {},
   "outputs": [],
   "source": [
    "import pandas as pd\n",
    "import numpy as np\n",
    "import seaborn as sns\n",
    "import matplotlib.pyplot as plt\n",
    "from scipy.stats import spearmanr\n",
    "\n",
    "# 读取MTEB排行榜数据（假设CSV文件名为 mteb_rankings.csv）\n",
    "mteb_df = pd.read_csv(\"mteb_rankings.csv\")\n",
    "\n",
    "# 从论文表格中提取sticky tokens数据（手动整理为以下格式）\n",
    "sticky_tokens_data = {\n",
    "    \"Model\": [\n",
    "        \"all-MiniLM-L6-v2\", \"all-mpnet-base-v2\", \"sup-simcse-bert-base-uncased\",\n",
    "        \"e5-mistral-7b-instruct\", \"bge-large-en-v1.5\", \"gte-Qwen2-7B-instruct\",\n",
    "        # 其他模型名称...\n",
    "    ],\n",
    "    \"Sticky_Tokens\": [21, 24, 22, 31, 15, 103, ...]  # 对应Validated列的值\n",
    "}\n",
    "sticky_df = pd.DataFrame(sticky_tokens_data)\n",
    "\n",
    "# 合并数据（根据模型名称匹配）\n",
    "merged_df = pd.merge(mteb_df, sticky_df, on=\"Model\", how=\"inner\")"
   ]
  },
  {
   "cell_type": "code",
   "execution_count": null,
   "metadata": {},
   "outputs": [],
   "source": [
    "# 计算斯皮尔曼秩相关系数（适用于非正态分布数据）\n",
    "corr, p_value = spearmanr(merged_df[\"Sticky_Tokens\"], merged_df[\"Mean (Task)\"])\n",
    "print(f\"Spearman Correlation: {corr:.3f}, p-value: {p_value:.3g}\")\n",
    "\n",
    "# 输出示例：\n",
    "# Spearman Correlation: -0.452, p-value: 0.0037"
   ]
  },
  {
   "cell_type": "code",
   "execution_count": null,
   "metadata": {},
   "outputs": [],
   "source": [
    "plt.figure(figsize=(10, 6))\n",
    "sns.regplot(\n",
    "    data=merged_df,\n",
    "    x=\"Sticky_Tokens\",\n",
    "    y=\"Mean (Task)\",\n",
    "    scatter_kws={\"s\": 100, \"alpha\": 0.6},\n",
    "    line_kws={\"color\": \"red\"}\n",
    ")\n",
    "plt.title(\"Sticky Tokens vs. Model Performance (MTEB Mean Score)\")\n",
    "plt.xlabel(\"Number of Sticky Tokens\")\n",
    "plt.ylabel(\"MTEB Mean Score\")\n",
    "plt.grid(True)\n",
    "plt.show()"
   ]
  }
 ],
 "metadata": {
  "kernelspec": {
   "display_name": "stickytoken",
   "language": "python",
   "name": "python3"
  },
  "language_info": {
   "name": "python",
   "version": "3.11.11"
  }
 },
 "nbformat": 4,
 "nbformat_minor": 2
}
