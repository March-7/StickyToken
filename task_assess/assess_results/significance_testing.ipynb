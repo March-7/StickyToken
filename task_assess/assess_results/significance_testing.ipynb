{
 "cells": [
  {
   "cell_type": "code",
   "execution_count": 3,
   "metadata": {},
   "outputs": [],
   "source": [
    "normal_scores = [\n",
    "    31.85, 30.32, 44.84, 74.71, 54.18, 34.57,  # e5-mistral-7b-instruct\n",
    "    38.05, 32.67, 48.35, 79.68, 63.66, 40.59,  # gte-Qwen2-7B-instruct\n",
    "    14.75, 18.80, 10.94, 39.52, 33.61, 6.25    # GritLM-7B\n",
    "]\n",
    "\n",
    "sticky_scores = [\n",
    "    28.92, 28.37, 40.78, 62.21, 46.30, 33.17,  # e5-mistral-7b-instruct\n",
    "    32.77, 29.64, 47.50, 72.61, 55.03, 34.45,  # gte-Qwen2-7B-instruct\n",
    "    19.41, 15.82, 10.04, 36.41, 29.73, 6.19    # GritLM-7B\n",
    "]"
   ]
  },
  {
   "cell_type": "code",
   "execution_count": 4,
   "metadata": {},
   "outputs": [
    {
     "name": "stdout",
     "output_type": "stream",
     "text": [
      "Paired t-test Results:\n",
      "t = 4.192, p = 0.0003\n",
      "Mean difference (normal - sticky) = 3.777\n",
      "Cohen's d = 0.988\n"
     ]
    }
   ],
   "source": [
    "import numpy as np\n",
    "from scipy import stats\n",
    "\n",
    "# 计算均值差异\n",
    "diff = np.array(normal_scores) - np.array(sticky_scores)\n",
    "\n",
    "# 配对t检验（单尾：检验sticky是否更差，即normal_score > sticky_score）\n",
    "t_stat, p_value = stats.ttest_rel(normal_scores, sticky_scores, alternative='greater')\n",
    "\n",
    "# 计算Cohen's d效应量\n",
    "cohen_d = np.mean(diff) / np.std(diff, ddof=1)\n",
    "\n",
    "print(f\"Paired t-test Results:\")\n",
    "print(f\"t = {t_stat:.3f}, p = {p_value:.4f}\")\n",
    "print(f\"Mean difference (normal - sticky) = {np.mean(diff):.3f}\")\n",
    "print(f\"Cohen's d = {cohen_d:.3f}\")"
   ]
  }
 ],
 "metadata": {
  "kernelspec": {
   "display_name": "stickytoken",
   "language": "python",
   "name": "python3"
  },
  "language_info": {
   "codemirror_mode": {
    "name": "ipython",
    "version": 3
   },
   "file_extension": ".py",
   "mimetype": "text/x-python",
   "name": "python",
   "nbconvert_exporter": "python",
   "pygments_lexer": "ipython3",
   "version": "3.11.11"
  }
 },
 "nbformat": 4,
 "nbformat_minor": 2
}
